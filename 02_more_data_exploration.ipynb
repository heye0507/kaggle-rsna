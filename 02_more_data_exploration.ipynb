{
 "cells": [
  {
   "cell_type": "code",
   "execution_count": 1,
   "metadata": {},
   "outputs": [],
   "source": [
    "import pandas as pd"
   ]
  },
  {
   "cell_type": "code",
   "execution_count": 2,
   "metadata": {},
   "outputs": [],
   "source": [
    "df_train = pd.read_csv('/home/jupyter/rsns/data/raw/stage_1_train_128.csv')"
   ]
  },
  {
   "cell_type": "code",
   "execution_count": 3,
   "metadata": {},
   "outputs": [
    {
     "data": {
      "text/html": [
       "<div>\n",
       "<style scoped>\n",
       "    .dataframe tbody tr th:only-of-type {\n",
       "        vertical-align: middle;\n",
       "    }\n",
       "\n",
       "    .dataframe tbody tr th {\n",
       "        vertical-align: top;\n",
       "    }\n",
       "\n",
       "    .dataframe thead th {\n",
       "        text-align: right;\n",
       "    }\n",
       "</style>\n",
       "<table border=\"1\" class=\"dataframe\">\n",
       "  <thead>\n",
       "    <tr style=\"text-align: right;\">\n",
       "      <th></th>\n",
       "      <th>ID</th>\n",
       "      <th>Label</th>\n",
       "    </tr>\n",
       "  </thead>\n",
       "  <tbody>\n",
       "    <tr>\n",
       "      <td>0</td>\n",
       "      <td>ID_63eb1e259_epidural</td>\n",
       "      <td>0</td>\n",
       "    </tr>\n",
       "    <tr>\n",
       "      <td>1</td>\n",
       "      <td>ID_63eb1e259_intraparenchymal</td>\n",
       "      <td>0</td>\n",
       "    </tr>\n",
       "    <tr>\n",
       "      <td>2</td>\n",
       "      <td>ID_63eb1e259_intraventricular</td>\n",
       "      <td>0</td>\n",
       "    </tr>\n",
       "    <tr>\n",
       "      <td>3</td>\n",
       "      <td>ID_63eb1e259_subarachnoid</td>\n",
       "      <td>0</td>\n",
       "    </tr>\n",
       "    <tr>\n",
       "      <td>4</td>\n",
       "      <td>ID_63eb1e259_subdural</td>\n",
       "      <td>0</td>\n",
       "    </tr>\n",
       "  </tbody>\n",
       "</table>\n",
       "</div>"
      ],
      "text/plain": [
       "                              ID  Label\n",
       "0          ID_63eb1e259_epidural      0\n",
       "1  ID_63eb1e259_intraparenchymal      0\n",
       "2  ID_63eb1e259_intraventricular      0\n",
       "3      ID_63eb1e259_subarachnoid      0\n",
       "4          ID_63eb1e259_subdural      0"
      ]
     },
     "execution_count": 3,
     "metadata": {},
     "output_type": "execute_result"
    }
   ],
   "source": [
    "df_train.head()"
   ]
  },
  {
   "cell_type": "code",
   "execution_count": 10,
   "metadata": {},
   "outputs": [
    {
     "data": {
      "text/plain": [
       "'ID_63eb1e259.png'"
      ]
     },
     "execution_count": 10,
     "metadata": {},
     "output_type": "execute_result"
    }
   ],
   "source": [
    "'_'.join(df_train.iloc[0]['ID'].split('_')[:2]) + '.png'"
   ]
  },
  {
   "cell_type": "code",
   "execution_count": 11,
   "metadata": {},
   "outputs": [],
   "source": [
    "df_train['fn'] = df_train['ID'].apply(lambda x: '_'.join(x.split('_')[:2]) + '.png')"
   ]
  },
  {
   "cell_type": "code",
   "execution_count": 13,
   "metadata": {},
   "outputs": [
    {
     "data": {
      "text/html": [
       "<div>\n",
       "<style scoped>\n",
       "    .dataframe tbody tr th:only-of-type {\n",
       "        vertical-align: middle;\n",
       "    }\n",
       "\n",
       "    .dataframe tbody tr th {\n",
       "        vertical-align: top;\n",
       "    }\n",
       "\n",
       "    .dataframe thead th {\n",
       "        text-align: right;\n",
       "    }\n",
       "</style>\n",
       "<table border=\"1\" class=\"dataframe\">\n",
       "  <thead>\n",
       "    <tr style=\"text-align: right;\">\n",
       "      <th></th>\n",
       "      <th>ID</th>\n",
       "      <th>Label</th>\n",
       "      <th>fn</th>\n",
       "    </tr>\n",
       "  </thead>\n",
       "  <tbody>\n",
       "    <tr>\n",
       "      <td>0</td>\n",
       "      <td>ID_63eb1e259_epidural</td>\n",
       "      <td>0</td>\n",
       "      <td>ID_63eb1e259.png</td>\n",
       "    </tr>\n",
       "    <tr>\n",
       "      <td>1</td>\n",
       "      <td>ID_63eb1e259_intraparenchymal</td>\n",
       "      <td>0</td>\n",
       "      <td>ID_63eb1e259.png</td>\n",
       "    </tr>\n",
       "    <tr>\n",
       "      <td>2</td>\n",
       "      <td>ID_63eb1e259_intraventricular</td>\n",
       "      <td>0</td>\n",
       "      <td>ID_63eb1e259.png</td>\n",
       "    </tr>\n",
       "    <tr>\n",
       "      <td>3</td>\n",
       "      <td>ID_63eb1e259_subarachnoid</td>\n",
       "      <td>0</td>\n",
       "      <td>ID_63eb1e259.png</td>\n",
       "    </tr>\n",
       "    <tr>\n",
       "      <td>4</td>\n",
       "      <td>ID_63eb1e259_subdural</td>\n",
       "      <td>0</td>\n",
       "      <td>ID_63eb1e259.png</td>\n",
       "    </tr>\n",
       "  </tbody>\n",
       "</table>\n",
       "</div>"
      ],
      "text/plain": [
       "                              ID  Label                fn\n",
       "0          ID_63eb1e259_epidural      0  ID_63eb1e259.png\n",
       "1  ID_63eb1e259_intraparenchymal      0  ID_63eb1e259.png\n",
       "2  ID_63eb1e259_intraventricular      0  ID_63eb1e259.png\n",
       "3      ID_63eb1e259_subarachnoid      0  ID_63eb1e259.png\n",
       "4          ID_63eb1e259_subdural      0  ID_63eb1e259.png"
      ]
     },
     "execution_count": 13,
     "metadata": {},
     "output_type": "execute_result"
    }
   ],
   "source": [
    "df_train.head()"
   ]
  },
  {
   "cell_type": "code",
   "execution_count": 14,
   "metadata": {},
   "outputs": [
    {
     "data": {
      "text/html": [
       "<div>\n",
       "<style scoped>\n",
       "    .dataframe tbody tr th:only-of-type {\n",
       "        vertical-align: middle;\n",
       "    }\n",
       "\n",
       "    .dataframe tbody tr th {\n",
       "        vertical-align: top;\n",
       "    }\n",
       "\n",
       "    .dataframe thead th {\n",
       "        text-align: right;\n",
       "    }\n",
       "</style>\n",
       "<table border=\"1\" class=\"dataframe\">\n",
       "  <thead>\n",
       "    <tr style=\"text-align: right;\">\n",
       "      <th></th>\n",
       "      <th>ID</th>\n",
       "      <th>prob</th>\n",
       "      <th>fn</th>\n",
       "    </tr>\n",
       "  </thead>\n",
       "  <tbody>\n",
       "    <tr>\n",
       "      <td>0</td>\n",
       "      <td>ID_63eb1e259_epidural</td>\n",
       "      <td>0</td>\n",
       "      <td>ID_63eb1e259.png</td>\n",
       "    </tr>\n",
       "    <tr>\n",
       "      <td>1</td>\n",
       "      <td>ID_63eb1e259_intraparenchymal</td>\n",
       "      <td>0</td>\n",
       "      <td>ID_63eb1e259.png</td>\n",
       "    </tr>\n",
       "    <tr>\n",
       "      <td>2</td>\n",
       "      <td>ID_63eb1e259_intraventricular</td>\n",
       "      <td>0</td>\n",
       "      <td>ID_63eb1e259.png</td>\n",
       "    </tr>\n",
       "    <tr>\n",
       "      <td>3</td>\n",
       "      <td>ID_63eb1e259_subarachnoid</td>\n",
       "      <td>0</td>\n",
       "      <td>ID_63eb1e259.png</td>\n",
       "    </tr>\n",
       "    <tr>\n",
       "      <td>4</td>\n",
       "      <td>ID_63eb1e259_subdural</td>\n",
       "      <td>0</td>\n",
       "      <td>ID_63eb1e259.png</td>\n",
       "    </tr>\n",
       "  </tbody>\n",
       "</table>\n",
       "</div>"
      ],
      "text/plain": [
       "                              ID  prob                fn\n",
       "0          ID_63eb1e259_epidural     0  ID_63eb1e259.png\n",
       "1  ID_63eb1e259_intraparenchymal     0  ID_63eb1e259.png\n",
       "2  ID_63eb1e259_intraventricular     0  ID_63eb1e259.png\n",
       "3      ID_63eb1e259_subarachnoid     0  ID_63eb1e259.png\n",
       "4          ID_63eb1e259_subdural     0  ID_63eb1e259.png"
      ]
     },
     "execution_count": 14,
     "metadata": {},
     "output_type": "execute_result"
    }
   ],
   "source": [
    "df_train.columns = ['ID','prob','fn']\n",
    "df_train.head()"
   ]
  },
  {
   "cell_type": "code",
   "execution_count": 15,
   "metadata": {},
   "outputs": [
    {
     "data": {
      "text/html": [
       "<div>\n",
       "<style scoped>\n",
       "    .dataframe tbody tr th:only-of-type {\n",
       "        vertical-align: middle;\n",
       "    }\n",
       "\n",
       "    .dataframe tbody tr th {\n",
       "        vertical-align: top;\n",
       "    }\n",
       "\n",
       "    .dataframe thead th {\n",
       "        text-align: right;\n",
       "    }\n",
       "</style>\n",
       "<table border=\"1\" class=\"dataframe\">\n",
       "  <thead>\n",
       "    <tr style=\"text-align: right;\">\n",
       "      <th></th>\n",
       "      <th>ID</th>\n",
       "      <th>prob</th>\n",
       "      <th>fn</th>\n",
       "      <th>label</th>\n",
       "    </tr>\n",
       "  </thead>\n",
       "  <tbody>\n",
       "    <tr>\n",
       "      <td>0</td>\n",
       "      <td>ID_63eb1e259_epidural</td>\n",
       "      <td>0</td>\n",
       "      <td>ID_63eb1e259.png</td>\n",
       "      <td>epidural</td>\n",
       "    </tr>\n",
       "    <tr>\n",
       "      <td>1</td>\n",
       "      <td>ID_63eb1e259_intraparenchymal</td>\n",
       "      <td>0</td>\n",
       "      <td>ID_63eb1e259.png</td>\n",
       "      <td>intraparenchymal</td>\n",
       "    </tr>\n",
       "    <tr>\n",
       "      <td>2</td>\n",
       "      <td>ID_63eb1e259_intraventricular</td>\n",
       "      <td>0</td>\n",
       "      <td>ID_63eb1e259.png</td>\n",
       "      <td>intraventricular</td>\n",
       "    </tr>\n",
       "    <tr>\n",
       "      <td>3</td>\n",
       "      <td>ID_63eb1e259_subarachnoid</td>\n",
       "      <td>0</td>\n",
       "      <td>ID_63eb1e259.png</td>\n",
       "      <td>subarachnoid</td>\n",
       "    </tr>\n",
       "    <tr>\n",
       "      <td>4</td>\n",
       "      <td>ID_63eb1e259_subdural</td>\n",
       "      <td>0</td>\n",
       "      <td>ID_63eb1e259.png</td>\n",
       "      <td>subdural</td>\n",
       "    </tr>\n",
       "  </tbody>\n",
       "</table>\n",
       "</div>"
      ],
      "text/plain": [
       "                              ID  prob                fn             label\n",
       "0          ID_63eb1e259_epidural     0  ID_63eb1e259.png          epidural\n",
       "1  ID_63eb1e259_intraparenchymal     0  ID_63eb1e259.png  intraparenchymal\n",
       "2  ID_63eb1e259_intraventricular     0  ID_63eb1e259.png  intraventricular\n",
       "3      ID_63eb1e259_subarachnoid     0  ID_63eb1e259.png      subarachnoid\n",
       "4          ID_63eb1e259_subdural     0  ID_63eb1e259.png          subdural"
      ]
     },
     "execution_count": 15,
     "metadata": {},
     "output_type": "execute_result"
    }
   ],
   "source": [
    "df_train['label'] = df_train['ID'].apply(lambda x: x.split('_')[-1])\n",
    "df_train.head()"
   ]
  },
  {
   "cell_type": "code",
   "execution_count": 16,
   "metadata": {},
   "outputs": [
    {
     "data": {
      "text/plain": [
       "(4045566, 4)"
      ]
     },
     "execution_count": 16,
     "metadata": {},
     "output_type": "execute_result"
    }
   ],
   "source": [
    "df_train.shape"
   ]
  },
  {
   "cell_type": "code",
   "execution_count": 17,
   "metadata": {},
   "outputs": [
    {
     "data": {
      "text/html": [
       "<div>\n",
       "<style scoped>\n",
       "    .dataframe tbody tr th:only-of-type {\n",
       "        vertical-align: middle;\n",
       "    }\n",
       "\n",
       "    .dataframe tbody tr th {\n",
       "        vertical-align: top;\n",
       "    }\n",
       "\n",
       "    .dataframe thead th {\n",
       "        text-align: right;\n",
       "    }\n",
       "</style>\n",
       "<table border=\"1\" class=\"dataframe\">\n",
       "  <thead>\n",
       "    <tr style=\"text-align: right;\">\n",
       "      <th></th>\n",
       "      <th>ID</th>\n",
       "      <th>prob</th>\n",
       "      <th>fn</th>\n",
       "      <th>label</th>\n",
       "    </tr>\n",
       "  </thead>\n",
       "  <tbody>\n",
       "    <tr>\n",
       "      <td>312474</td>\n",
       "      <td>ID_a64d5deed_epidural</td>\n",
       "      <td>0</td>\n",
       "      <td>ID_a64d5deed.png</td>\n",
       "      <td>epidural</td>\n",
       "    </tr>\n",
       "    <tr>\n",
       "      <td>312475</td>\n",
       "      <td>ID_a64d5deed_intraparenchymal</td>\n",
       "      <td>0</td>\n",
       "      <td>ID_a64d5deed.png</td>\n",
       "      <td>intraparenchymal</td>\n",
       "    </tr>\n",
       "    <tr>\n",
       "      <td>312476</td>\n",
       "      <td>ID_a64d5deed_intraventricular</td>\n",
       "      <td>0</td>\n",
       "      <td>ID_a64d5deed.png</td>\n",
       "      <td>intraventricular</td>\n",
       "    </tr>\n",
       "    <tr>\n",
       "      <td>312477</td>\n",
       "      <td>ID_a64d5deed_subarachnoid</td>\n",
       "      <td>0</td>\n",
       "      <td>ID_a64d5deed.png</td>\n",
       "      <td>subarachnoid</td>\n",
       "    </tr>\n",
       "    <tr>\n",
       "      <td>312478</td>\n",
       "      <td>ID_a64d5deed_subdural</td>\n",
       "      <td>0</td>\n",
       "      <td>ID_a64d5deed.png</td>\n",
       "      <td>subdural</td>\n",
       "    </tr>\n",
       "    <tr>\n",
       "      <td>312479</td>\n",
       "      <td>ID_a64d5deed_any</td>\n",
       "      <td>0</td>\n",
       "      <td>ID_a64d5deed.png</td>\n",
       "      <td>any</td>\n",
       "    </tr>\n",
       "    <tr>\n",
       "      <td>1598544</td>\n",
       "      <td>ID_921490062_epidural</td>\n",
       "      <td>0</td>\n",
       "      <td>ID_921490062.png</td>\n",
       "      <td>epidural</td>\n",
       "    </tr>\n",
       "    <tr>\n",
       "      <td>1598545</td>\n",
       "      <td>ID_921490062_intraparenchymal</td>\n",
       "      <td>0</td>\n",
       "      <td>ID_921490062.png</td>\n",
       "      <td>intraparenchymal</td>\n",
       "    </tr>\n",
       "    <tr>\n",
       "      <td>1598546</td>\n",
       "      <td>ID_921490062_intraventricular</td>\n",
       "      <td>0</td>\n",
       "      <td>ID_921490062.png</td>\n",
       "      <td>intraventricular</td>\n",
       "    </tr>\n",
       "    <tr>\n",
       "      <td>1598547</td>\n",
       "      <td>ID_921490062_subarachnoid</td>\n",
       "      <td>0</td>\n",
       "      <td>ID_921490062.png</td>\n",
       "      <td>subarachnoid</td>\n",
       "    </tr>\n",
       "    <tr>\n",
       "      <td>1598548</td>\n",
       "      <td>ID_921490062_subdural</td>\n",
       "      <td>0</td>\n",
       "      <td>ID_921490062.png</td>\n",
       "      <td>subdural</td>\n",
       "    </tr>\n",
       "    <tr>\n",
       "      <td>1598549</td>\n",
       "      <td>ID_921490062_any</td>\n",
       "      <td>0</td>\n",
       "      <td>ID_921490062.png</td>\n",
       "      <td>any</td>\n",
       "    </tr>\n",
       "    <tr>\n",
       "      <td>2708706</td>\n",
       "      <td>ID_489ae4179_epidural</td>\n",
       "      <td>0</td>\n",
       "      <td>ID_489ae4179.png</td>\n",
       "      <td>epidural</td>\n",
       "    </tr>\n",
       "    <tr>\n",
       "      <td>2708707</td>\n",
       "      <td>ID_489ae4179_intraparenchymal</td>\n",
       "      <td>0</td>\n",
       "      <td>ID_489ae4179.png</td>\n",
       "      <td>intraparenchymal</td>\n",
       "    </tr>\n",
       "    <tr>\n",
       "      <td>2708708</td>\n",
       "      <td>ID_489ae4179_intraventricular</td>\n",
       "      <td>0</td>\n",
       "      <td>ID_489ae4179.png</td>\n",
       "      <td>intraventricular</td>\n",
       "    </tr>\n",
       "    <tr>\n",
       "      <td>2708709</td>\n",
       "      <td>ID_489ae4179_subarachnoid</td>\n",
       "      <td>0</td>\n",
       "      <td>ID_489ae4179.png</td>\n",
       "      <td>subarachnoid</td>\n",
       "    </tr>\n",
       "    <tr>\n",
       "      <td>2708710</td>\n",
       "      <td>ID_489ae4179_subdural</td>\n",
       "      <td>0</td>\n",
       "      <td>ID_489ae4179.png</td>\n",
       "      <td>subdural</td>\n",
       "    </tr>\n",
       "    <tr>\n",
       "      <td>2708711</td>\n",
       "      <td>ID_489ae4179_any</td>\n",
       "      <td>0</td>\n",
       "      <td>ID_489ae4179.png</td>\n",
       "      <td>any</td>\n",
       "    </tr>\n",
       "    <tr>\n",
       "      <td>3033000</td>\n",
       "      <td>ID_854fba667_epidural</td>\n",
       "      <td>0</td>\n",
       "      <td>ID_854fba667.png</td>\n",
       "      <td>epidural</td>\n",
       "    </tr>\n",
       "    <tr>\n",
       "      <td>3033001</td>\n",
       "      <td>ID_854fba667_intraparenchymal</td>\n",
       "      <td>0</td>\n",
       "      <td>ID_854fba667.png</td>\n",
       "      <td>intraparenchymal</td>\n",
       "    </tr>\n",
       "    <tr>\n",
       "      <td>3033002</td>\n",
       "      <td>ID_854fba667_intraventricular</td>\n",
       "      <td>0</td>\n",
       "      <td>ID_854fba667.png</td>\n",
       "      <td>intraventricular</td>\n",
       "    </tr>\n",
       "    <tr>\n",
       "      <td>3033003</td>\n",
       "      <td>ID_854fba667_subarachnoid</td>\n",
       "      <td>0</td>\n",
       "      <td>ID_854fba667.png</td>\n",
       "      <td>subarachnoid</td>\n",
       "    </tr>\n",
       "    <tr>\n",
       "      <td>3033004</td>\n",
       "      <td>ID_854fba667_subdural</td>\n",
       "      <td>0</td>\n",
       "      <td>ID_854fba667.png</td>\n",
       "      <td>subdural</td>\n",
       "    </tr>\n",
       "    <tr>\n",
       "      <td>3033005</td>\n",
       "      <td>ID_854fba667_any</td>\n",
       "      <td>0</td>\n",
       "      <td>ID_854fba667.png</td>\n",
       "      <td>any</td>\n",
       "    </tr>\n",
       "  </tbody>\n",
       "</table>\n",
       "</div>"
      ],
      "text/plain": [
       "                                    ID  prob                fn  \\\n",
       "312474           ID_a64d5deed_epidural     0  ID_a64d5deed.png   \n",
       "312475   ID_a64d5deed_intraparenchymal     0  ID_a64d5deed.png   \n",
       "312476   ID_a64d5deed_intraventricular     0  ID_a64d5deed.png   \n",
       "312477       ID_a64d5deed_subarachnoid     0  ID_a64d5deed.png   \n",
       "312478           ID_a64d5deed_subdural     0  ID_a64d5deed.png   \n",
       "312479                ID_a64d5deed_any     0  ID_a64d5deed.png   \n",
       "1598544          ID_921490062_epidural     0  ID_921490062.png   \n",
       "1598545  ID_921490062_intraparenchymal     0  ID_921490062.png   \n",
       "1598546  ID_921490062_intraventricular     0  ID_921490062.png   \n",
       "1598547      ID_921490062_subarachnoid     0  ID_921490062.png   \n",
       "1598548          ID_921490062_subdural     0  ID_921490062.png   \n",
       "1598549               ID_921490062_any     0  ID_921490062.png   \n",
       "2708706          ID_489ae4179_epidural     0  ID_489ae4179.png   \n",
       "2708707  ID_489ae4179_intraparenchymal     0  ID_489ae4179.png   \n",
       "2708708  ID_489ae4179_intraventricular     0  ID_489ae4179.png   \n",
       "2708709      ID_489ae4179_subarachnoid     0  ID_489ae4179.png   \n",
       "2708710          ID_489ae4179_subdural     0  ID_489ae4179.png   \n",
       "2708711               ID_489ae4179_any     0  ID_489ae4179.png   \n",
       "3033000          ID_854fba667_epidural     0  ID_854fba667.png   \n",
       "3033001  ID_854fba667_intraparenchymal     0  ID_854fba667.png   \n",
       "3033002  ID_854fba667_intraventricular     0  ID_854fba667.png   \n",
       "3033003      ID_854fba667_subarachnoid     0  ID_854fba667.png   \n",
       "3033004          ID_854fba667_subdural     0  ID_854fba667.png   \n",
       "3033005               ID_854fba667_any     0  ID_854fba667.png   \n",
       "\n",
       "                    label  \n",
       "312474           epidural  \n",
       "312475   intraparenchymal  \n",
       "312476   intraventricular  \n",
       "312477       subarachnoid  \n",
       "312478           subdural  \n",
       "312479                any  \n",
       "1598544          epidural  \n",
       "1598545  intraparenchymal  \n",
       "1598546  intraventricular  \n",
       "1598547      subarachnoid  \n",
       "1598548          subdural  \n",
       "1598549               any  \n",
       "2708706          epidural  \n",
       "2708707  intraparenchymal  \n",
       "2708708  intraventricular  \n",
       "2708709      subarachnoid  \n",
       "2708710          subdural  \n",
       "2708711               any  \n",
       "3033000          epidural  \n",
       "3033001  intraparenchymal  \n",
       "3033002  intraventricular  \n",
       "3033003      subarachnoid  \n",
       "3033004          subdural  \n",
       "3033005               any  "
      ]
     },
     "execution_count": 17,
     "metadata": {},
     "output_type": "execute_result"
    }
   ],
   "source": [
    "df_train[df_train.duplicated(['ID'])]"
   ]
  },
  {
   "cell_type": "code",
   "execution_count": 18,
   "metadata": {},
   "outputs": [
    {
     "data": {
      "text/html": [
       "<div>\n",
       "<style scoped>\n",
       "    .dataframe tbody tr th:only-of-type {\n",
       "        vertical-align: middle;\n",
       "    }\n",
       "\n",
       "    .dataframe tbody tr th {\n",
       "        vertical-align: top;\n",
       "    }\n",
       "\n",
       "    .dataframe thead th {\n",
       "        text-align: right;\n",
       "    }\n",
       "</style>\n",
       "<table border=\"1\" class=\"dataframe\">\n",
       "  <thead>\n",
       "    <tr style=\"text-align: right;\">\n",
       "      <th></th>\n",
       "      <th>ID</th>\n",
       "      <th>prob</th>\n",
       "      <th>fn</th>\n",
       "      <th>label</th>\n",
       "    </tr>\n",
       "  </thead>\n",
       "  <tbody>\n",
       "    <tr>\n",
       "      <td>312468</td>\n",
       "      <td>ID_a64d5deed_epidural</td>\n",
       "      <td>0</td>\n",
       "      <td>ID_a64d5deed.png</td>\n",
       "      <td>epidural</td>\n",
       "    </tr>\n",
       "    <tr>\n",
       "      <td>312474</td>\n",
       "      <td>ID_a64d5deed_epidural</td>\n",
       "      <td>0</td>\n",
       "      <td>ID_a64d5deed.png</td>\n",
       "      <td>epidural</td>\n",
       "    </tr>\n",
       "  </tbody>\n",
       "</table>\n",
       "</div>"
      ],
      "text/plain": [
       "                           ID  prob                fn     label\n",
       "312468  ID_a64d5deed_epidural     0  ID_a64d5deed.png  epidural\n",
       "312474  ID_a64d5deed_epidural     0  ID_a64d5deed.png  epidural"
      ]
     },
     "execution_count": 18,
     "metadata": {},
     "output_type": "execute_result"
    }
   ],
   "source": [
    "df_train[df_train['ID'] == 'ID_a64d5deed_epidural']"
   ]
  },
  {
   "cell_type": "markdown",
   "metadata": {},
   "source": [
    "# Drop duplicates"
   ]
  },
  {
   "cell_type": "code",
   "execution_count": 19,
   "metadata": {},
   "outputs": [],
   "source": [
    "df_train.drop_duplicates('ID',inplace=True)"
   ]
  },
  {
   "cell_type": "code",
   "execution_count": 20,
   "metadata": {},
   "outputs": [
    {
     "data": {
      "text/plain": [
       "(4045542, 4)"
      ]
     },
     "execution_count": 20,
     "metadata": {},
     "output_type": "execute_result"
    }
   ],
   "source": [
    "df_train.shape"
   ]
  },
  {
   "cell_type": "code",
   "execution_count": 21,
   "metadata": {},
   "outputs": [
    {
     "data": {
      "text/plain": [
       "674257.0"
      ]
     },
     "execution_count": 21,
     "metadata": {},
     "output_type": "execute_result"
    }
   ],
   "source": [
    "# matches previous notebok train data len\n",
    "4045542/6 "
   ]
  },
  {
   "cell_type": "code",
   "execution_count": 23,
   "metadata": {},
   "outputs": [],
   "source": [
    "pivot = df_train.pivot(index='fn', columns='label', values='prob')"
   ]
  },
  {
   "cell_type": "code",
   "execution_count": 24,
   "metadata": {},
   "outputs": [
    {
     "data": {
      "text/html": [
       "<div>\n",
       "<style scoped>\n",
       "    .dataframe tbody tr th:only-of-type {\n",
       "        vertical-align: middle;\n",
       "    }\n",
       "\n",
       "    .dataframe tbody tr th {\n",
       "        vertical-align: top;\n",
       "    }\n",
       "\n",
       "    .dataframe thead th {\n",
       "        text-align: right;\n",
       "    }\n",
       "</style>\n",
       "<table border=\"1\" class=\"dataframe\">\n",
       "  <thead>\n",
       "    <tr style=\"text-align: right;\">\n",
       "      <th>label</th>\n",
       "      <th>any</th>\n",
       "      <th>epidural</th>\n",
       "      <th>intraparenchymal</th>\n",
       "      <th>intraventricular</th>\n",
       "      <th>subarachnoid</th>\n",
       "      <th>subdural</th>\n",
       "    </tr>\n",
       "    <tr>\n",
       "      <th>fn</th>\n",
       "      <th></th>\n",
       "      <th></th>\n",
       "      <th></th>\n",
       "      <th></th>\n",
       "      <th></th>\n",
       "      <th></th>\n",
       "    </tr>\n",
       "  </thead>\n",
       "  <tbody>\n",
       "    <tr>\n",
       "      <td>ID_000039fa0.png</td>\n",
       "      <td>0</td>\n",
       "      <td>0</td>\n",
       "      <td>0</td>\n",
       "      <td>0</td>\n",
       "      <td>0</td>\n",
       "      <td>0</td>\n",
       "    </tr>\n",
       "    <tr>\n",
       "      <td>ID_00005679d.png</td>\n",
       "      <td>0</td>\n",
       "      <td>0</td>\n",
       "      <td>0</td>\n",
       "      <td>0</td>\n",
       "      <td>0</td>\n",
       "      <td>0</td>\n",
       "    </tr>\n",
       "    <tr>\n",
       "      <td>ID_00008ce3c.png</td>\n",
       "      <td>0</td>\n",
       "      <td>0</td>\n",
       "      <td>0</td>\n",
       "      <td>0</td>\n",
       "      <td>0</td>\n",
       "      <td>0</td>\n",
       "    </tr>\n",
       "    <tr>\n",
       "      <td>ID_0000950d7.png</td>\n",
       "      <td>0</td>\n",
       "      <td>0</td>\n",
       "      <td>0</td>\n",
       "      <td>0</td>\n",
       "      <td>0</td>\n",
       "      <td>0</td>\n",
       "    </tr>\n",
       "    <tr>\n",
       "      <td>ID_0000aee4b.png</td>\n",
       "      <td>0</td>\n",
       "      <td>0</td>\n",
       "      <td>0</td>\n",
       "      <td>0</td>\n",
       "      <td>0</td>\n",
       "      <td>0</td>\n",
       "    </tr>\n",
       "  </tbody>\n",
       "</table>\n",
       "</div>"
      ],
      "text/plain": [
       "label             any  epidural  intraparenchymal  intraventricular  \\\n",
       "fn                                                                    \n",
       "ID_000039fa0.png    0         0                 0                 0   \n",
       "ID_00005679d.png    0         0                 0                 0   \n",
       "ID_00008ce3c.png    0         0                 0                 0   \n",
       "ID_0000950d7.png    0         0                 0                 0   \n",
       "ID_0000aee4b.png    0         0                 0                 0   \n",
       "\n",
       "label             subarachnoid  subdural  \n",
       "fn                                        \n",
       "ID_000039fa0.png             0         0  \n",
       "ID_00005679d.png             0         0  \n",
       "ID_00008ce3c.png             0         0  \n",
       "ID_0000950d7.png             0         0  \n",
       "ID_0000aee4b.png             0         0  "
      ]
     },
     "execution_count": 24,
     "metadata": {},
     "output_type": "execute_result"
    }
   ],
   "source": [
    "pivot.head()"
   ]
  },
  {
   "cell_type": "code",
   "execution_count": 25,
   "metadata": {},
   "outputs": [
    {
     "data": {
      "text/html": [
       "<div>\n",
       "<style scoped>\n",
       "    .dataframe tbody tr th:only-of-type {\n",
       "        vertical-align: middle;\n",
       "    }\n",
       "\n",
       "    .dataframe tbody tr th {\n",
       "        vertical-align: top;\n",
       "    }\n",
       "\n",
       "    .dataframe thead th {\n",
       "        text-align: right;\n",
       "    }\n",
       "</style>\n",
       "<table border=\"1\" class=\"dataframe\">\n",
       "  <thead>\n",
       "    <tr style=\"text-align: right;\">\n",
       "      <th>label</th>\n",
       "      <th>fn</th>\n",
       "      <th>any</th>\n",
       "      <th>epidural</th>\n",
       "      <th>intraparenchymal</th>\n",
       "      <th>intraventricular</th>\n",
       "      <th>subarachnoid</th>\n",
       "      <th>subdural</th>\n",
       "    </tr>\n",
       "  </thead>\n",
       "  <tbody>\n",
       "    <tr>\n",
       "      <td>0</td>\n",
       "      <td>ID_000039fa0.png</td>\n",
       "      <td>0</td>\n",
       "      <td>0</td>\n",
       "      <td>0</td>\n",
       "      <td>0</td>\n",
       "      <td>0</td>\n",
       "      <td>0</td>\n",
       "    </tr>\n",
       "    <tr>\n",
       "      <td>1</td>\n",
       "      <td>ID_00005679d.png</td>\n",
       "      <td>0</td>\n",
       "      <td>0</td>\n",
       "      <td>0</td>\n",
       "      <td>0</td>\n",
       "      <td>0</td>\n",
       "      <td>0</td>\n",
       "    </tr>\n",
       "    <tr>\n",
       "      <td>2</td>\n",
       "      <td>ID_00008ce3c.png</td>\n",
       "      <td>0</td>\n",
       "      <td>0</td>\n",
       "      <td>0</td>\n",
       "      <td>0</td>\n",
       "      <td>0</td>\n",
       "      <td>0</td>\n",
       "    </tr>\n",
       "    <tr>\n",
       "      <td>3</td>\n",
       "      <td>ID_0000950d7.png</td>\n",
       "      <td>0</td>\n",
       "      <td>0</td>\n",
       "      <td>0</td>\n",
       "      <td>0</td>\n",
       "      <td>0</td>\n",
       "      <td>0</td>\n",
       "    </tr>\n",
       "    <tr>\n",
       "      <td>4</td>\n",
       "      <td>ID_0000aee4b.png</td>\n",
       "      <td>0</td>\n",
       "      <td>0</td>\n",
       "      <td>0</td>\n",
       "      <td>0</td>\n",
       "      <td>0</td>\n",
       "      <td>0</td>\n",
       "    </tr>\n",
       "  </tbody>\n",
       "</table>\n",
       "</div>"
      ],
      "text/plain": [
       "label                fn  any  epidural  intraparenchymal  intraventricular  \\\n",
       "0      ID_000039fa0.png    0         0                 0                 0   \n",
       "1      ID_00005679d.png    0         0                 0                 0   \n",
       "2      ID_00008ce3c.png    0         0                 0                 0   \n",
       "3      ID_0000950d7.png    0         0                 0                 0   \n",
       "4      ID_0000aee4b.png    0         0                 0                 0   \n",
       "\n",
       "label  subarachnoid  subdural  \n",
       "0                 0         0  \n",
       "1                 0         0  \n",
       "2                 0         0  \n",
       "3                 0         0  \n",
       "4                 0         0  "
      ]
     },
     "execution_count": 25,
     "metadata": {},
     "output_type": "execute_result"
    }
   ],
   "source": [
    "pivot.reset_index(inplace=True)\n",
    "pivot.head()"
   ]
  },
  {
   "cell_type": "code",
   "execution_count": 26,
   "metadata": {},
   "outputs": [
    {
     "data": {
      "text/plain": [
       "(674257, 7)"
      ]
     },
     "execution_count": 26,
     "metadata": {},
     "output_type": "execute_result"
    }
   ],
   "source": [
    "pivot.shape"
   ]
  },
  {
   "cell_type": "code",
   "execution_count": 27,
   "metadata": {},
   "outputs": [],
   "source": [
    "pivot.to_csv('/home/jupyter/rsns/data/stage_1_train_pivot.csv',index=False)"
   ]
  },
  {
   "cell_type": "code",
   "execution_count": 33,
   "metadata": {},
   "outputs": [
    {
     "data": {
      "text/plain": [
       "numpy.int64"
      ]
     },
     "execution_count": 33,
     "metadata": {},
     "output_type": "execute_result"
    }
   ],
   "source": [
    "type(pivot.iloc[0]['any'])"
   ]
  },
  {
   "cell_type": "markdown",
   "metadata": {},
   "source": [
    "fastai datablock API handles label as string, and all in one col under label. check amazon planet notebook"
   ]
  },
  {
   "cell_type": "code",
   "execution_count": 38,
   "metadata": {},
   "outputs": [
    {
     "name": "stdout",
     "output_type": "stream",
     "text": [
      "Pandas(Index=88, ID='ID_aeda0804d_subdural', prob=1, fn='ID_aeda0804d.png', label='subdural')\n"
     ]
    }
   ],
   "source": [
    "for tup in df_train.itertuples():\n",
    "    if tup.prob != 0:\n",
    "        print(tup)\n",
    "        break"
   ]
  },
  {
   "cell_type": "code",
   "execution_count": 34,
   "metadata": {},
   "outputs": [],
   "source": [
    "from collections import defaultdict\n",
    "\n",
    "# push file name as key into defaul dict\n",
    "d = defaultdict(list)\n",
    "for fn in df_train.fn.unique(): d[fn]\n",
    "\n",
    "# if prob, append label as value to dict key\n",
    "# itertuples() will read one row at a time from dataframe\n",
    "for tup in df_train.itertuples():\n",
    "    if tup.prob: d[tup.fn].append(tup.label)\n",
    "        \n",
    "\n",
    "ks, vs = [], []\n",
    "\n",
    "for k, v in d.items():\n",
    "    ks.append(k), vs.append(' '.join(v))\n",
    "    \n",
    "re_df_train = pd.DataFrame(data={'fn': ks, 'labels': vs})"
   ]
  },
  {
   "cell_type": "code",
   "execution_count": 36,
   "metadata": {},
   "outputs": [
    {
     "data": {
      "text/html": [
       "<div>\n",
       "<style scoped>\n",
       "    .dataframe tbody tr th:only-of-type {\n",
       "        vertical-align: middle;\n",
       "    }\n",
       "\n",
       "    .dataframe tbody tr th {\n",
       "        vertical-align: top;\n",
       "    }\n",
       "\n",
       "    .dataframe thead th {\n",
       "        text-align: right;\n",
       "    }\n",
       "</style>\n",
       "<table border=\"1\" class=\"dataframe\">\n",
       "  <thead>\n",
       "    <tr style=\"text-align: right;\">\n",
       "      <th></th>\n",
       "      <th>fn</th>\n",
       "      <th>labels</th>\n",
       "    </tr>\n",
       "  </thead>\n",
       "  <tbody>\n",
       "    <tr>\n",
       "      <td>674252</td>\n",
       "      <td>ID_f737f4cc1.png</td>\n",
       "      <td></td>\n",
       "    </tr>\n",
       "    <tr>\n",
       "      <td>674253</td>\n",
       "      <td>ID_4c92d70b5.png</td>\n",
       "      <td></td>\n",
       "    </tr>\n",
       "    <tr>\n",
       "      <td>674254</td>\n",
       "      <td>ID_a9797cb3a.png</td>\n",
       "      <td></td>\n",
       "    </tr>\n",
       "    <tr>\n",
       "      <td>674255</td>\n",
       "      <td>ID_9375f67bd.png</td>\n",
       "      <td></td>\n",
       "    </tr>\n",
       "    <tr>\n",
       "      <td>674256</td>\n",
       "      <td>ID_5c8b5d701.png</td>\n",
       "      <td>intraparenchymal subarachnoid subdural any</td>\n",
       "    </tr>\n",
       "  </tbody>\n",
       "</table>\n",
       "</div>"
      ],
      "text/plain": [
       "                      fn                                      labels\n",
       "674252  ID_f737f4cc1.png                                            \n",
       "674253  ID_4c92d70b5.png                                            \n",
       "674254  ID_a9797cb3a.png                                            \n",
       "674255  ID_9375f67bd.png                                            \n",
       "674256  ID_5c8b5d701.png  intraparenchymal subarachnoid subdural any"
      ]
     },
     "execution_count": 36,
     "metadata": {},
     "output_type": "execute_result"
    }
   ],
   "source": [
    "re_df_train.tail()"
   ]
  },
  {
   "cell_type": "code",
   "execution_count": 40,
   "metadata": {},
   "outputs": [],
   "source": [
    "re_df_train.to_csv('/home/jupyter/rsns/data/train_fastai_format.csv',index=False)"
   ]
  },
  {
   "cell_type": "code",
   "execution_count": null,
   "metadata": {},
   "outputs": [],
   "source": []
  }
 ],
 "metadata": {
  "kernelspec": {
   "display_name": "Python 3",
   "language": "python",
   "name": "python3"
  },
  "language_info": {
   "codemirror_mode": {
    "name": "ipython",
    "version": 3
   },
   "file_extension": ".py",
   "mimetype": "text/x-python",
   "name": "python",
   "nbconvert_exporter": "python",
   "pygments_lexer": "ipython3",
   "version": "3.7.4"
  }
 },
 "nbformat": 4,
 "nbformat_minor": 2
}
